{
 "cells": [
  {
   "cell_type": "markdown",
   "id": "39e7388c",
   "metadata": {
    "papermill": {
     "duration": 0.006786,
     "end_time": "2022-12-03T14:31:55.060659",
     "exception": false,
     "start_time": "2022-12-03T14:31:55.053873",
     "status": "completed"
    },
    "tags": []
   },
   "source": [
    "# Introduction to Machine Learning Algorithms: Linear Regression\n",
    "\n",
    "Linear Regression is a machine learning algorithm based on supervised learning. It performs a regression task. Regression models a target prediction value based on independent variables. It is mostly used for finding out the relationship between variables and forecasting. In statistics, the coefficient that shows the degree of the relationship between the variables is called the correlation, and the equation that determines the functional form of the relationship between the variables is called the regression equation.\n",
    "\n",
    "A dependent variable and one or more independent variables are included in the mathematical model established while performing the regression analysis. If the number of independent variables is one, a simple linear regression model is established, and if there is more than one independent variable, a multiple regression model is established.\n",
    "\n",
    "In this equation, the 𝑌 variable represents the target variable and the 𝑋 variables represent the feature variables. The coefficients of 𝛽 coefficients are recorded as coef_ in sklearn and 𝛽0 as intercept_. In linear regression analysis, if we work in a 2-dimensional plane, that is, if we have an output and a feature variable, we try to draw the best line representing the 2 variables.\n",
    "\n",
    "Linear Regression: Functional form of the relationship between a dependent variable (𝑌) and a series of independent variables (𝑋). Linear regression analysis: «the study of fitting data to a linear line» or «linear modeling»\n",
    "\n",
    "* 𝑌: Output, dependent, result, affected variable\n",
    "* 𝑋: Input, independent, cause(factor), influencing variable\n",
    "\n",
    "Regression question: How can we predict the X-dependent conditions of Y?"
   ]
  },
  {
   "cell_type": "markdown",
   "id": "c6b74f99",
   "metadata": {
    "papermill": {
     "duration": 0.006866,
     "end_time": "2022-12-03T14:31:55.074639",
     "exception": false,
     "start_time": "2022-12-03T14:31:55.067773",
     "status": "completed"
    },
    "tags": []
   },
   "source": [
    "# Error Evaluation for Regression Models\n",
    "\n",
    "Tasks Employees' years of experience and salary information are given.\n",
    "\n",
    "1. Create the linear regression model equation according to the given bias and weight. Bias = 275, Weight= 90 (y' = b+wx)\n",
    "2. Estimate the salary for all years of experience in the table according to the model equation you have created.\n",
    "3. Calculate MSE, RMSE, and MAE scores to measure the success of the model."
   ]
  },
  {
   "cell_type": "markdown",
   "id": "007c9418",
   "metadata": {
    "papermill": {
     "duration": 0.006791,
     "end_time": "2022-12-03T14:31:55.088501",
     "exception": false,
     "start_time": "2022-12-03T14:31:55.081710",
     "status": "completed"
    },
    "tags": []
   },
   "source": [
    "Year of experience is the independent variable (x), and Salary is the dependent variable (y).\n",
    "In other words; The work experience of the employee generally affects the salary, and this effect is positive.\n",
    "In the simple regression model, we will establish, we will examine this relationship between years of experience and salary."
   ]
  },
  {
   "cell_type": "markdown",
   "id": "872f48cc",
   "metadata": {
    "papermill": {
     "duration": 0.006834,
     "end_time": "2022-12-03T14:31:55.102234",
     "exception": false,
     "start_time": "2022-12-03T14:31:55.095400",
     "status": "completed"
    },
    "tags": []
   },
   "source": [
    "**Loading required Python packages**"
   ]
  },
  {
   "cell_type": "code",
   "execution_count": 1,
   "id": "d7c609c1",
   "metadata": {
    "execution": {
     "iopub.execute_input": "2022-12-03T14:31:55.119536Z",
     "iopub.status.busy": "2022-12-03T14:31:55.118944Z",
     "iopub.status.idle": "2022-12-03T14:31:56.454523Z",
     "shell.execute_reply": "2022-12-03T14:31:56.453108Z"
    },
    "papermill": {
     "duration": 1.347662,
     "end_time": "2022-12-03T14:31:56.456930",
     "exception": false,
     "start_time": "2022-12-03T14:31:55.109268",
     "status": "completed"
    },
    "tags": []
   },
   "outputs": [],
   "source": [
    "# for data manipulation\n",
    "import numpy as np\n",
    "import pandas as pd\n",
    "\n",
    "# for visualization\n",
    "import matplotlib.pyplot as plt\n",
    "import seaborn as sns\n",
    "\n",
    "# Import Warnings\n",
    "import warnings\n",
    "warnings.simplefilter(action=\"ignore\")\n",
    "\n",
    "# Setting Configurations:\n",
    "pd.set_option('display.float_format', lambda x: '%.2f' % x)\n",
    "\n",
    "# for data splitting, transforming and model training\n",
    "from sklearn.linear_model import LinearRegression\n",
    "from sklearn.metrics import mean_squared_error, mean_absolute_error, r2_score\n",
    "from sklearn.model_selection import train_test_split, cross_val_score"
   ]
  },
  {
   "cell_type": "markdown",
   "id": "ff72afc0",
   "metadata": {
    "papermill": {
     "duration": 0.006841,
     "end_time": "2022-12-03T14:31:56.471176",
     "exception": false,
     "start_time": "2022-12-03T14:31:56.464335",
     "status": "completed"
    },
    "tags": []
   },
   "source": [
    "The linear regression function is called with the line from sklearn.linear_model import LinearRegression.\n",
    "\n",
    "* **statsmodels** — a module that provides classes and functions for the estimation of many different statistical models,as well as for conducting statistical tests, and statistical data exploration.\n",
    "* **scikit-learn** — a module that provides simple and efficient tools for data mining and data analysis."
   ]
  },
  {
   "cell_type": "code",
   "execution_count": 2,
   "id": "bc04fede",
   "metadata": {
    "execution": {
     "iopub.execute_input": "2022-12-03T14:31:56.487576Z",
     "iopub.status.busy": "2022-12-03T14:31:56.486893Z",
     "iopub.status.idle": "2022-12-03T14:31:56.494405Z",
     "shell.execute_reply": "2022-12-03T14:31:56.492659Z"
    },
    "papermill": {
     "duration": 0.018638,
     "end_time": "2022-12-03T14:31:56.496970",
     "exception": false,
     "start_time": "2022-12-03T14:31:56.478332",
     "status": "completed"
    },
    "tags": []
   },
   "outputs": [],
   "source": [
    "# Create the arrays that represent the values of the x and y axis:\n",
    "experience = np.array([5, 7, 3, 3, 2, 7, 3, 10, 6, 4, 8, 1, 1, 9, 1])\n",
    "salary = np.array([600, 900, 550, 500, 400, 950, 540, 1200, 900, 550, 1100, 460, 400, 1000, 380])"
   ]
  },
  {
   "cell_type": "code",
   "execution_count": 3,
   "id": "6a8042fa",
   "metadata": {
    "execution": {
     "iopub.execute_input": "2022-12-03T14:31:56.512853Z",
     "iopub.status.busy": "2022-12-03T14:31:56.512469Z",
     "iopub.status.idle": "2022-12-03T14:31:56.537570Z",
     "shell.execute_reply": "2022-12-03T14:31:56.536162Z"
    },
    "papermill": {
     "duration": 0.035526,
     "end_time": "2022-12-03T14:31:56.539647",
     "exception": false,
     "start_time": "2022-12-03T14:31:56.504121",
     "status": "completed"
    },
    "tags": []
   },
   "outputs": [
    {
     "data": {
      "text/html": [
       "<div>\n",
       "<style scoped>\n",
       "    .dataframe tbody tr th:only-of-type {\n",
       "        vertical-align: middle;\n",
       "    }\n",
       "\n",
       "    .dataframe tbody tr th {\n",
       "        vertical-align: top;\n",
       "    }\n",
       "\n",
       "    .dataframe thead th {\n",
       "        text-align: right;\n",
       "    }\n",
       "</style>\n",
       "<table border=\"1\" class=\"dataframe\">\n",
       "  <thead>\n",
       "    <tr style=\"text-align: right;\">\n",
       "      <th></th>\n",
       "      <th>X</th>\n",
       "      <th>y</th>\n",
       "    </tr>\n",
       "  </thead>\n",
       "  <tbody>\n",
       "    <tr>\n",
       "      <th>0</th>\n",
       "      <td>5</td>\n",
       "      <td>600</td>\n",
       "    </tr>\n",
       "    <tr>\n",
       "      <th>1</th>\n",
       "      <td>7</td>\n",
       "      <td>900</td>\n",
       "    </tr>\n",
       "    <tr>\n",
       "      <th>2</th>\n",
       "      <td>3</td>\n",
       "      <td>550</td>\n",
       "    </tr>\n",
       "    <tr>\n",
       "      <th>3</th>\n",
       "      <td>3</td>\n",
       "      <td>500</td>\n",
       "    </tr>\n",
       "    <tr>\n",
       "      <th>4</th>\n",
       "      <td>2</td>\n",
       "      <td>400</td>\n",
       "    </tr>\n",
       "  </tbody>\n",
       "</table>\n",
       "</div>"
      ],
      "text/plain": [
       "   X    y\n",
       "0  5  600\n",
       "1  7  900\n",
       "2  3  550\n",
       "3  3  500\n",
       "4  2  400"
      ]
     },
     "execution_count": 3,
     "metadata": {},
     "output_type": "execute_result"
    }
   ],
   "source": [
    "# Create pandas dataframe to store our X and y values\n",
    "df = pd.DataFrame({'X': experience, 'y': salary})\n",
    "df.head()"
   ]
  },
  {
   "cell_type": "code",
   "execution_count": 4,
   "id": "d7bc530b",
   "metadata": {
    "execution": {
     "iopub.execute_input": "2022-12-03T14:31:56.557210Z",
     "iopub.status.busy": "2022-12-03T14:31:56.556173Z",
     "iopub.status.idle": "2022-12-03T14:31:56.562514Z",
     "shell.execute_reply": "2022-12-03T14:31:56.561356Z"
    },
    "papermill": {
     "duration": 0.017336,
     "end_time": "2022-12-03T14:31:56.564486",
     "exception": false,
     "start_time": "2022-12-03T14:31:56.547150",
     "status": "completed"
    },
    "tags": []
   },
   "outputs": [
    {
     "data": {
      "text/plain": [
       "(15, 2)"
      ]
     },
     "execution_count": 4,
     "metadata": {},
     "output_type": "execute_result"
    }
   ],
   "source": [
    "df.shape"
   ]
  },
  {
   "cell_type": "code",
   "execution_count": 5,
   "id": "82e16c31",
   "metadata": {
    "execution": {
     "iopub.execute_input": "2022-12-03T14:31:56.585476Z",
     "iopub.status.busy": "2022-12-03T14:31:56.584485Z",
     "iopub.status.idle": "2022-12-03T14:31:56.597070Z",
     "shell.execute_reply": "2022-12-03T14:31:56.595982Z"
    },
    "papermill": {
     "duration": 0.025866,
     "end_time": "2022-12-03T14:31:56.599146",
     "exception": false,
     "start_time": "2022-12-03T14:31:56.573280",
     "status": "completed"
    },
    "tags": []
   },
   "outputs": [
    {
     "name": "stdout",
     "output_type": "stream",
     "text": [
      "     X    y\n",
      "X 1.00 0.97\n",
      "y 0.97 1.00\n"
     ]
    }
   ],
   "source": [
    "print(df.corr())"
   ]
  },
  {
   "cell_type": "code",
   "execution_count": 6,
   "id": "a0a4ec00",
   "metadata": {
    "execution": {
     "iopub.execute_input": "2022-12-03T14:31:56.618010Z",
     "iopub.status.busy": "2022-12-03T14:31:56.617177Z",
     "iopub.status.idle": "2022-12-03T14:31:56.639522Z",
     "shell.execute_reply": "2022-12-03T14:31:56.638541Z"
    },
    "papermill": {
     "duration": 0.034999,
     "end_time": "2022-12-03T14:31:56.642360",
     "exception": false,
     "start_time": "2022-12-03T14:31:56.607361",
     "status": "completed"
    },
    "tags": []
   },
   "outputs": [
    {
     "name": "stdout",
     "output_type": "stream",
     "text": [
      "          X       y\n",
      "count 15.00   15.00\n",
      "mean   4.67  695.33\n",
      "std    3.02  280.66\n",
      "min    1.00  380.00\n",
      "25%    2.50  480.00\n",
      "50%    4.00  550.00\n",
      "75%    7.00  925.00\n",
      "max   10.00 1200.00\n"
     ]
    }
   ],
   "source": [
    "# Now let's look at the descriptive statistics about the data set.\n",
    "print(df.describe())"
   ]
  },
  {
   "cell_type": "markdown",
   "id": "79745615",
   "metadata": {
    "papermill": {
     "duration": 0.00722,
     "end_time": "2022-12-03T14:31:56.658316",
     "exception": false,
     "start_time": "2022-12-03T14:31:56.651096",
     "status": "completed"
    },
    "tags": []
   },
   "source": [
    "**Visualizing the set results**"
   ]
  },
  {
   "cell_type": "code",
   "execution_count": 7,
   "id": "c6a53e14",
   "metadata": {
    "execution": {
     "iopub.execute_input": "2022-12-03T14:31:56.676027Z",
     "iopub.status.busy": "2022-12-03T14:31:56.675064Z",
     "iopub.status.idle": "2022-12-03T14:31:56.863516Z",
     "shell.execute_reply": "2022-12-03T14:31:56.861689Z"
    },
    "papermill": {
     "duration": 0.200214,
     "end_time": "2022-12-03T14:31:56.866210",
     "exception": false,
     "start_time": "2022-12-03T14:31:56.665996",
     "status": "completed"
    },
    "tags": []
   },
   "outputs": [
    {
     "data": {
      "image/png": "[encoded data removed]",
      "text/plain": [
       "<Figure size 640x480 with 1 Axes>"
      ]
     },
     "metadata": {},
     "output_type": "display_data"
    }
   ],
   "source": [
    "# drawing scatter plot:\n",
    "plt.scatter(experience, salary, color =\"green\")\n",
    "plt.title('Salary Estimation Regression Model by Year of Experience')\n",
    "plt.xlabel('years of experience')\n",
    "plt.ylabel('salary')\n",
    "plt.show()"
   ]
  },
  {
   "cell_type": "markdown",
   "id": "4e9ed9c3",
   "metadata": {
    "papermill": {
     "duration": 0.007532,
     "end_time": "2022-12-03T14:31:56.881750",
     "exception": false,
     "start_time": "2022-12-03T14:31:56.874218",
     "status": "completed"
    },
    "tags": []
   },
   "source": [
    "*The graph shows that there is a positive linear relationship between x and y.*"
   ]
  },
  {
   "cell_type": "code",
   "execution_count": 8,
   "id": "7d954168",
   "metadata": {
    "execution": {
     "iopub.execute_input": "2022-12-03T14:31:56.899372Z",
     "iopub.status.busy": "2022-12-03T14:31:56.898919Z",
     "iopub.status.idle": "2022-12-03T14:31:56.904831Z",
     "shell.execute_reply": "2022-12-03T14:31:56.903460Z"
    },
    "papermill": {
     "duration": 0.017411,
     "end_time": "2022-12-03T14:31:56.907033",
     "exception": false,
     "start_time": "2022-12-03T14:31:56.889622",
     "status": "completed"
    },
    "tags": []
   },
   "outputs": [],
   "source": [
    "experience = experience.reshape(-1, 1)"
   ]
  },
  {
   "cell_type": "markdown",
   "id": "e66f9db6",
   "metadata": {
    "papermill": {
     "duration": 0.007774,
     "end_time": "2022-12-03T14:31:56.922807",
     "exception": false,
     "start_time": "2022-12-03T14:31:56.915033",
     "status": "completed"
    },
    "tags": []
   },
   "source": [
    "**It’s time to start using the model. First, you need to call .fit() on model:**"
   ]
  },
  {
   "cell_type": "code",
   "execution_count": 9,
   "id": "9caf50c2",
   "metadata": {
    "execution": {
     "iopub.execute_input": "2022-12-03T14:31:56.941218Z",
     "iopub.status.busy": "2022-12-03T14:31:56.940495Z",
     "iopub.status.idle": "2022-12-03T14:31:56.963994Z",
     "shell.execute_reply": "2022-12-03T14:31:56.963024Z"
    },
    "papermill": {
     "duration": 0.035638,
     "end_time": "2022-12-03T14:31:56.966386",
     "exception": false,
     "start_time": "2022-12-03T14:31:56.930748",
     "status": "completed"
    },
    "tags": []
   },
   "outputs": [
    {
     "data": {
      "text/plain": [
       "LinearRegression()"
      ]
     },
     "execution_count": 9,
     "metadata": {},
     "output_type": "execute_result"
    }
   ],
   "source": [
    "linear_model = LinearRegression()\n",
    "linear_model.fit(X=experience, y=salary)"
   ]
  },
  {
   "cell_type": "code",
   "execution_count": 10,
   "id": "0f1bd1da",
   "metadata": {
    "execution": {
     "iopub.execute_input": "2022-12-03T14:31:56.984345Z",
     "iopub.status.busy": "2022-12-03T14:31:56.983910Z",
     "iopub.status.idle": "2022-12-03T14:31:56.990833Z",
     "shell.execute_reply": "2022-12-03T14:31:56.989664Z"
    },
    "papermill": {
     "duration": 0.017939,
     "end_time": "2022-12-03T14:31:56.992561",
     "exception": false,
     "start_time": "2022-12-03T14:31:56.974622",
     "status": "completed"
    },
    "tags": []
   },
   "outputs": [
    {
     "data": {
      "text/plain": [
       "array([90.20942408])"
      ]
     },
     "execution_count": 10,
     "metadata": {},
     "output_type": "execute_result"
    }
   ],
   "source": [
    "linear_model.coef_"
   ]
  },
  {
   "cell_type": "code",
   "execution_count": 11,
   "id": "405b3b11",
   "metadata": {
    "execution": {
     "iopub.execute_input": "2022-12-03T14:31:57.010345Z",
     "iopub.status.busy": "2022-12-03T14:31:57.009894Z",
     "iopub.status.idle": "2022-12-03T14:31:57.016219Z",
     "shell.execute_reply": "2022-12-03T14:31:57.015341Z"
    },
    "papermill": {
     "duration": 0.018279,
     "end_time": "2022-12-03T14:31:57.018812",
     "exception": false,
     "start_time": "2022-12-03T14:31:57.000533",
     "status": "completed"
    },
    "tags": []
   },
   "outputs": [
    {
     "data": {
      "text/plain": [
       "274.3560209424085"
      ]
     },
     "execution_count": 11,
     "metadata": {},
     "output_type": "execute_result"
    }
   ],
   "source": [
    "linear_model.intercept_"
   ]
  },
  {
   "cell_type": "code",
   "execution_count": 12,
   "id": "3ca7f743",
   "metadata": {
    "execution": {
     "iopub.execute_input": "2022-12-03T14:31:57.037523Z",
     "iopub.status.busy": "2022-12-03T14:31:57.036479Z",
     "iopub.status.idle": "2022-12-03T14:31:57.045181Z",
     "shell.execute_reply": "2022-12-03T14:31:57.043521Z"
    },
    "papermill": {
     "duration": 0.020858,
     "end_time": "2022-12-03T14:31:57.048068",
     "exception": false,
     "start_time": "2022-12-03T14:31:57.027210",
     "status": "completed"
    },
    "tags": []
   },
   "outputs": [
    {
     "data": {
      "text/plain": [
       "0.9396360551357491"
      ]
     },
     "execution_count": 12,
     "metadata": {},
     "output_type": "execute_result"
    }
   ],
   "source": [
    "linear_model.score(X=experience, y=salary)"
   ]
  },
  {
   "cell_type": "markdown",
   "id": "228747db",
   "metadata": {
    "papermill": {
     "duration": 0.008494,
     "end_time": "2022-12-03T14:31:57.065092",
     "exception": false,
     "start_time": "2022-12-03T14:31:57.056598",
     "status": "completed"
    },
    "tags": []
   },
   "source": [
    "*Our model reveals about 94% of data.*"
   ]
  },
  {
   "cell_type": "markdown",
   "id": "9a617a3b",
   "metadata": {
    "papermill": {
     "duration": 0.008198,
     "end_time": "2022-12-03T14:31:57.081843",
     "exception": false,
     "start_time": "2022-12-03T14:31:57.073645",
     "status": "completed"
    },
    "tags": []
   },
   "source": [
    "**1.** Create the linear regression model equation according to the given bias and weight. \n",
    "* Bias = 275, Weight= 90 (y' = b+wx)"
   ]
  },
  {
   "cell_type": "code",
   "execution_count": 13,
   "id": "5503e6e4",
   "metadata": {
    "execution": {
     "iopub.execute_input": "2022-12-03T14:31:57.100085Z",
     "iopub.status.busy": "2022-12-03T14:31:57.099717Z",
     "iopub.status.idle": "2022-12-03T14:31:57.105324Z",
     "shell.execute_reply": "2022-12-03T14:31:57.103889Z"
    },
    "papermill": {
     "duration": 0.017877,
     "end_time": "2022-12-03T14:31:57.108063",
     "exception": false,
     "start_time": "2022-12-03T14:31:57.090186",
     "status": "completed"
    },
    "tags": []
   },
   "outputs": [],
   "source": [
    "# y’ = 275 + 90*x\n",
    "Y = [275] + [90] * experience"
   ]
  },
  {
   "cell_type": "markdown",
   "id": "facbeea3",
   "metadata": {
    "papermill": {
     "duration": 0.007935,
     "end_time": "2022-12-03T14:31:57.124502",
     "exception": false,
     "start_time": "2022-12-03T14:31:57.116567",
     "status": "completed"
    },
    "tags": []
   },
   "source": [
    "**2.** Estimate the salary for all years of experience in the table according to the model equation you have created."
   ]
  },
  {
   "cell_type": "code",
   "execution_count": 14,
   "id": "30e0f392",
   "metadata": {
    "execution": {
     "iopub.execute_input": "2022-12-03T14:31:57.142903Z",
     "iopub.status.busy": "2022-12-03T14:31:57.142563Z",
     "iopub.status.idle": "2022-12-03T14:31:57.151159Z",
     "shell.execute_reply": "2022-12-03T14:31:57.149760Z"
    },
    "papermill": {
     "duration": 0.021232,
     "end_time": "2022-12-03T14:31:57.154043",
     "exception": false,
     "start_time": "2022-12-03T14:31:57.132811",
     "status": "completed"
    },
    "tags": []
   },
   "outputs": [
    {
     "data": {
      "text/plain": [
       "array([ 725.40314136,  905.82198953,  544.98429319,  544.98429319,\n",
       "        454.77486911,  905.82198953,  544.98429319, 1176.45026178,\n",
       "        815.61256545,  635.19371728,  996.03141361,  364.56544503,\n",
       "        364.56544503, 1086.2408377 ,  364.56544503])"
      ]
     },
     "execution_count": 14,
     "metadata": {},
     "output_type": "execute_result"
    }
   ],
   "source": [
    "linear_model.predict(experience)"
   ]
  },
  {
   "cell_type": "code",
   "execution_count": 15,
   "id": "048448fa",
   "metadata": {
    "execution": {
     "iopub.execute_input": "2022-12-03T14:31:57.173244Z",
     "iopub.status.busy": "2022-12-03T14:31:57.172691Z",
     "iopub.status.idle": "2022-12-03T14:31:57.177008Z",
     "shell.execute_reply": "2022-12-03T14:31:57.175902Z"
    },
    "papermill": {
     "duration": 0.016875,
     "end_time": "2022-12-03T14:31:57.179532",
     "exception": false,
     "start_time": "2022-12-03T14:31:57.162657",
     "status": "completed"
    },
    "tags": []
   },
   "outputs": [],
   "source": [
    "y_predict = linear_model.predict(experience)\n"
   ]
  },
  {
   "cell_type": "code",
   "execution_count": 17,
   "id": "83e33dec",
   "metadata": {},
   "outputs": [
    {
     "data": {
      "text/plain": [
       "array([ 725.40314136,  905.82198953,  544.98429319,  544.98429319,\n",
       "        454.77486911,  905.82198953,  544.98429319, 1176.45026178,\n",
       "        815.61256545,  635.19371728,  996.03141361,  364.56544503,\n",
       "        364.56544503, 1086.2408377 ,  364.56544503])"
      ]
     },
     "execution_count": 17,
     "metadata": {},
     "output_type": "execute_result"
    }
   ],
   "source": [
    "y_predict"
   ]
  },
  {
   "cell_type": "code",
   "execution_count": 16,
   "id": "cdf2f65e",
   "metadata": {
    "execution": {
     "iopub.execute_input": "2022-12-03T14:31:57.198111Z",
     "iopub.status.busy": "2022-12-03T14:31:57.197559Z",
     "iopub.status.idle": "2022-12-03T14:31:57.359071Z",
     "shell.execute_reply": "2022-12-03T14:31:57.357355Z"
    },
    "papermill": {
     "duration": 0.173779,
     "end_time": "2022-12-03T14:31:57.361771",
     "exception": false,
     "start_time": "2022-12-03T14:31:57.187992",
     "status": "completed"
    },
    "tags": []
   },
   "outputs": [
    {
     "data": {
      "image/png": "[encoded data removed]",
      "text/plain": [
       "<Figure size 640x480 with 1 Axes>"
      ]
     },
     "metadata": {},
     "output_type": "display_data"
    }
   ],
   "source": [
    "plt.scatter(experience, salary, color =\"green\", label = 'real values')\n",
    "plt.plot(experience, y_predict, color = 'red', label = 'forecast values')\n",
    "plt.legend()\n",
    "plt.title('Salary Estimation Regression Model by Year of Experience')\n",
    "plt.xlabel('years of experience')\n",
    "plt.ylabel('salary')\n",
    "plt.show()"
   ]
  },
  {
   "attachments": {
    "37c78971-bcc2-4f14-8677-4d9179a5257f.png": {
     "image/png": "[encoded data removed]"
    }
   },
   "cell_type": "markdown",
   "id": "0aa08ee2",
   "metadata": {
    "papermill": {
     "duration": 0.008291,
     "end_time": "2022-12-03T14:31:57.378724",
     "exception": false,
     "start_time": "2022-12-03T14:31:57.370433",
     "status": "completed"
    },
    "tags": []
   },
   "source": [
    "# Regression model evaluation metrics\n",
    "\n",
    "The MSE, MAE, RMSE, and R-Squared metrics are mainly used to evaluate the prediction error rates and model performance in regression analysis.\n",
    "\n",
    "![image.png](attachment:37c78971-bcc2-4f14-8677-4d9179a5257f.png)"
   ]
  },
  {
   "cell_type": "markdown",
   "id": "ed7db5e1",
   "metadata": {
    "papermill": {
     "duration": 0.008191,
     "end_time": "2022-12-03T14:31:57.395409",
     "exception": false,
     "start_time": "2022-12-03T14:31:57.387218",
     "status": "completed"
    },
    "tags": []
   },
   "source": [
    "**3.** Calculate MSE, RMSE, and MAE scores to measure the success of the model."
   ]
  },
  {
   "cell_type": "code",
   "execution_count": 18,
   "id": "422eb829",
   "metadata": {
    "execution": {
     "iopub.execute_input": "2022-12-03T14:31:57.415561Z",
     "iopub.status.busy": "2022-12-03T14:31:57.415179Z",
     "iopub.status.idle": "2022-12-03T14:31:57.424304Z",
     "shell.execute_reply": "2022-12-03T14:31:57.422603Z"
    },
    "papermill": {
     "duration": 0.022435,
     "end_time": "2022-12-03T14:31:57.426566",
     "exception": false,
     "start_time": "2022-12-03T14:31:57.404131",
     "status": "completed"
    },
    "tags": []
   },
   "outputs": [],
   "source": [
    "mse = mean_squared_error(salary, y_predict)          \n",
    "mae = mean_absolute_error(salary, y_predict)          \n",
    "rmse = np.sqrt(mse)\n",
    "r2score = r2_score (salary, y_predict)"
   ]
  },
  {
   "cell_type": "code",
   "execution_count": 19,
   "id": "d1ce2ce4",
   "metadata": {
    "execution": {
     "iopub.execute_input": "2022-12-03T14:31:57.445615Z",
     "iopub.status.busy": "2022-12-03T14:31:57.445223Z",
     "iopub.status.idle": "2022-12-03T14:31:57.451837Z",
     "shell.execute_reply": "2022-12-03T14:31:57.450353Z"
    },
    "papermill": {
     "duration": 0.019195,
     "end_time": "2022-12-03T14:31:57.454399",
     "exception": false,
     "start_time": "2022-12-03T14:31:57.435204",
     "status": "completed"
    },
    "tags": []
   },
   "outputs": [
    {
     "name": "stdout",
     "output_type": "stream",
     "text": [
      "Mean absolute error: 54.32\n",
      "Mean squared error: 4437.85\n",
      "Root mean squared error: 66.62\n",
      "coefficient of determination score : 0.94\n"
     ]
    }
   ],
   "source": [
    "print(f'Mean absolute error: {mae:.2f}')\n",
    "print(f'Mean squared error: {mse:.2f}')\n",
    "print(f'Root mean squared error: {rmse:.2f}')\n",
    "print(f'coefficient of determination score : {r2score:.2f}')"
   ]
  },
  {
   "cell_type": "code",
   "execution_count": null,
   "id": "b3b23293",
   "metadata": {},
   "outputs": [],
   "source": []
  }
 ],
 "metadata": {
  "kernelspec": {
   "display_name": "Python 3 (ipykernel)",
   "language": "python",
   "name": "python3"
  },
  "language_info": {
   "codemirror_mode": {
    "name": "ipython",
    "version": 3
   },
   "file_extension": ".py",
   "mimetype": "text/x-python",
   "name": "python",
   "nbconvert_exporter": "python",
   "pygments_lexer": "ipython3",
   "version": "3.9.13"
  },
  "papermill": {
   "default_parameters": {},
   "duration": 11.151278,
   "end_time": "2022-12-03T14:31:58.204866",
   "environment_variables": {},
   "exception": null,
   "input_path": "__notebook__.ipynb",
   "output_path": "__notebook__.ipynb",
   "parameters": {},
   "start_time": "2022-12-03T14:31:47.053588",
   "version": "2.3.4"
  }
 },
 "nbformat": 4,
 "nbformat_minor": 5
}
